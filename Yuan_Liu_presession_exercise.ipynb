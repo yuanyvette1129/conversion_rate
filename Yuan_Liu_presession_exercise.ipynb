{
  "nbformat": 4,
  "nbformat_minor": 0,
  "metadata": {
    "colab": {
      "name": "Yuan_Liu_presession_exercise.ipynb",
      "provenance": [],
      "collapsed_sections": []
    },
    "kernelspec": {
      "name": "python3",
      "display_name": "Python 3"
    }
  },
  "cells": [
    {
      "cell_type": "markdown",
      "metadata": {
        "id": "WwDICFOd33GM",
        "colab_type": "text"
      },
      "source": [
        "### Project Goal\n",
        "\n",
        "\n",
        "You are working for an e-commerce company. The company wants to optimize the conversion\n",
        "rate for its website. Conversion refers to the action the company wants the user to take, which\n",
        "in this case is making a purchase. The conversion rate is simply the number of conversions\n",
        "divided by the total number of visitors the page receives.\n",
        "\n",
        "We have data about users who hit our site. We know whether they converted or not, as well as\n",
        "some of their basic characteristics such as the country they’re in, the marketing channel that\n",
        "brought them to the site, their age, whether they are repeat users, and the number of pages\n",
        "visited during that session (as a proxy for site activity/time spent on the site).\n",
        "\n",
        "Your project is to:\n",
        "1. Perform Exploratory Data Analysis and produce 2-3 plots that show either important\n",
        "features or interesting patterns in the data. It is up to you what you want to highlight.\n",
        "2. Build a model to predict conversion rate and critically evaluate it, explaining your choice\n",
        "of model and performance metric.\n",
        "3. Come up with recommendations for the product team and the marketing team to\n",
        "improve conversion rate."
      ]
    },
    {
      "cell_type": "markdown",
      "metadata": {
        "id": "PNmVmkKT42AM",
        "colab_type": "text"
      },
      "source": [
        "# Part 0 Load packages, load data"
      ]
    },
    {
      "cell_type": "code",
      "metadata": {
        "id": "C1Mh-97M3O1F",
        "colab_type": "code",
        "colab": {}
      },
      "source": [
        "#import neccessary libraries\n",
        "import numpy as np\n",
        "import pandas as pd\n",
        "import sklearn as sl\n",
        "from sklearn.preprocessing import StandardScaler\n",
        "from sklearn.model_selection import train_test_split\n",
        "\n",
        "import seaborn as sns\n",
        "import matplotlib.pyplot as plt\n",
        "pd.set_option('display.float_format', lambda x: '%.3f' % x)   \n",
        "pd.set_option('display.max_columns',None)\n",
        "pd.set_option('display.max_rows',None)\n",
        "pd.set_option('max_colwidth',100)"
      ],
      "execution_count": 0,
      "outputs": []
    },
    {
      "cell_type": "code",
      "metadata": {
        "id": "3aAyeppJ5TAu",
        "colab_type": "code",
        "colab": {}
      },
      "source": [
        "# method 1 install pydrive to load data\n",
        "!pip install -U -q PyDrive\n",
        "\n",
        "from pydrive.auth import GoogleAuth\n",
        "from pydrive.drive import GoogleDrive\n",
        "from google.colab import auth\n",
        "from oauth2client.client import GoogleCredentials\n",
        "\n",
        "auth.authenticate_user()\n",
        "gauth = GoogleAuth()\n",
        "gauth.credentials = GoogleCredentials.get_application_default()\n",
        "drive = GoogleDrive(gauth)\n",
        "\n",
        "link = 'https://drive.google.com/open?id=1Q2BnerNIndvFr3tGEh5XkTtUOIP1yF45'\n",
        "fluff, id = link.split('=')\n",
        "file = drive.CreateFile({'id':'1Q2BnerNIndvFr3tGEh5XkTtUOIP1yF45'}) # replace the id with id of file you want to access\n",
        "file.GetContentFile('conversion_data.csv')  "
      ],
      "execution_count": 0,
      "outputs": []
    },
    {
      "cell_type": "code",
      "metadata": {
        "id": "txVR8X-75mph",
        "colab_type": "code",
        "colab": {
          "base_uri": "https://localhost:8080/",
          "height": 204
        },
        "outputId": "b93f0035-4231-4cc3-b48d-9c03a8bce910"
      },
      "source": [
        "df = pd.read_csv('conversion_data.csv')\n",
        "df.head()"
      ],
      "execution_count": 4,
      "outputs": [
        {
          "output_type": "execute_result",
          "data": {
            "text/html": [
              "<div>\n",
              "<style scoped>\n",
              "    .dataframe tbody tr th:only-of-type {\n",
              "        vertical-align: middle;\n",
              "    }\n",
              "\n",
              "    .dataframe tbody tr th {\n",
              "        vertical-align: top;\n",
              "    }\n",
              "\n",
              "    .dataframe thead th {\n",
              "        text-align: right;\n",
              "    }\n",
              "</style>\n",
              "<table border=\"1\" class=\"dataframe\">\n",
              "  <thead>\n",
              "    <tr style=\"text-align: right;\">\n",
              "      <th></th>\n",
              "      <th>country</th>\n",
              "      <th>age</th>\n",
              "      <th>new_user</th>\n",
              "      <th>source</th>\n",
              "      <th>total_pages_visited</th>\n",
              "      <th>converted</th>\n",
              "    </tr>\n",
              "  </thead>\n",
              "  <tbody>\n",
              "    <tr>\n",
              "      <th>0</th>\n",
              "      <td>UK</td>\n",
              "      <td>25</td>\n",
              "      <td>1</td>\n",
              "      <td>Ads</td>\n",
              "      <td>1</td>\n",
              "      <td>0</td>\n",
              "    </tr>\n",
              "    <tr>\n",
              "      <th>1</th>\n",
              "      <td>US</td>\n",
              "      <td>23</td>\n",
              "      <td>1</td>\n",
              "      <td>Seo</td>\n",
              "      <td>5</td>\n",
              "      <td>0</td>\n",
              "    </tr>\n",
              "    <tr>\n",
              "      <th>2</th>\n",
              "      <td>US</td>\n",
              "      <td>28</td>\n",
              "      <td>1</td>\n",
              "      <td>Seo</td>\n",
              "      <td>4</td>\n",
              "      <td>0</td>\n",
              "    </tr>\n",
              "    <tr>\n",
              "      <th>3</th>\n",
              "      <td>China</td>\n",
              "      <td>39</td>\n",
              "      <td>1</td>\n",
              "      <td>Seo</td>\n",
              "      <td>5</td>\n",
              "      <td>0</td>\n",
              "    </tr>\n",
              "    <tr>\n",
              "      <th>4</th>\n",
              "      <td>US</td>\n",
              "      <td>30</td>\n",
              "      <td>1</td>\n",
              "      <td>Seo</td>\n",
              "      <td>6</td>\n",
              "      <td>0</td>\n",
              "    </tr>\n",
              "  </tbody>\n",
              "</table>\n",
              "</div>"
            ],
            "text/plain": [
              "  country  age  new_user source  total_pages_visited  converted\n",
              "0      UK   25         1    Ads                    1          0\n",
              "1      US   23         1    Seo                    5          0\n",
              "2      US   28         1    Seo                    4          0\n",
              "3   China   39         1    Seo                    5          0\n",
              "4      US   30         1    Seo                    6          0"
            ]
          },
          "metadata": {
            "tags": []
          },
          "execution_count": 4
        }
      ]
    },
    {
      "cell_type": "markdown",
      "metadata": {
        "id": "45Vt-DAs6Her",
        "colab_type": "text"
      },
      "source": [
        "# Part 1: Data Exploration\n",
        "\n",
        "### 1.1. Understand the raw dataset"
      ]
    },
    {
      "cell_type": "code",
      "metadata": {
        "id": "toKPBNSc7nSo",
        "colab_type": "code",
        "colab": {
          "base_uri": "https://localhost:8080/",
          "height": 51
        },
        "outputId": "e5828854-eca5-4582-a7e6-b0435d84809a"
      },
      "source": [
        "print (\"Num of rows: \" + str(df.shape[0])) # row count\n",
        "print (\"Num of columns: \" + str(df.shape[1])) # col count"
      ],
      "execution_count": 9,
      "outputs": [
        {
          "output_type": "stream",
          "text": [
            "Num of rows: 316200\n",
            "Num of columns: 6\n"
          ],
          "name": "stdout"
        }
      ]
    },
    {
      "cell_type": "code",
      "metadata": {
        "id": "x3iAaBCH56pb",
        "colab_type": "code",
        "colab": {
          "base_uri": "https://localhost:8080/",
          "height": 238
        },
        "outputId": "eb4359de-4ad9-4ea3-f1a3-fbc7f3dc2972"
      },
      "source": [
        "df.info()"
      ],
      "execution_count": 5,
      "outputs": [
        {
          "output_type": "stream",
          "text": [
            "<class 'pandas.core.frame.DataFrame'>\n",
            "RangeIndex: 316200 entries, 0 to 316199\n",
            "Data columns (total 6 columns):\n",
            " #   Column               Non-Null Count   Dtype \n",
            "---  ------               --------------   ----- \n",
            " 0   country              316200 non-null  object\n",
            " 1   age                  316200 non-null  int64 \n",
            " 2   new_user             316200 non-null  int64 \n",
            " 3   source               316200 non-null  object\n",
            " 4   total_pages_visited  316200 non-null  int64 \n",
            " 5   converted            316200 non-null  int64 \n",
            "dtypes: int64(4), object(2)\n",
            "memory usage: 14.5+ MB\n"
          ],
          "name": "stdout"
        }
      ]
    },
    {
      "cell_type": "code",
      "metadata": {
        "id": "9yMkU8rh7uAP",
        "colab_type": "code",
        "colab": {
          "base_uri": "https://localhost:8080/",
          "height": 136
        },
        "outputId": "5a01b474-4eae-4a52-eb2f-0dae35387787"
      },
      "source": [
        "# check the unique values for each column\n",
        "df.nunique()"
      ],
      "execution_count": 10,
      "outputs": [
        {
          "output_type": "execute_result",
          "data": {
            "text/plain": [
              "country                 4\n",
              "age                    60\n",
              "new_user                2\n",
              "source                  3\n",
              "total_pages_visited    29\n",
              "converted               2\n",
              "dtype: int64"
            ]
          },
          "metadata": {
            "tags": []
          },
          "execution_count": 10
        }
      ]
    },
    {
      "cell_type": "code",
      "metadata": {
        "id": "eNWIGWjb74sp",
        "colab_type": "code",
        "colab": {}
      },
      "source": [
        "# Get target variable\n",
        "y = df['converted']"
      ],
      "execution_count": 0,
      "outputs": []
    },
    {
      "cell_type": "code",
      "metadata": {
        "id": "lQOPzPqT6QXn",
        "colab_type": "code",
        "colab": {
          "base_uri": "https://localhost:8080/",
          "height": 34
        },
        "outputId": "3d884126-77c9-4c95-bd1e-752b172efff8"
      },
      "source": [
        "# check conversion rate\n",
        "print('conversion rate' + str(y.sum() / y.shape * 100))    #imbalance data"
      ],
      "execution_count": 12,
      "outputs": [
        {
          "output_type": "stream",
          "text": [
            "conversion rate[3.22580645]\n"
          ],
          "name": "stdout"
        }
      ]
    },
    {
      "cell_type": "markdown",
      "metadata": {
        "id": "mrIUVPO78Mtx",
        "colab_type": "text"
      },
      "source": [
        "### 1.2.  Understand the features"
      ]
    },
    {
      "cell_type": "code",
      "metadata": {
        "id": "cz2lVPSX6_M8",
        "colab_type": "code",
        "colab": {
          "base_uri": "https://localhost:8080/",
          "height": 136
        },
        "outputId": "2186b1c5-7ed5-4206-cfea-2cdc737e5341"
      },
      "source": [
        "# check missing values\n",
        "df.isnull().sum()"
      ],
      "execution_count": 13,
      "outputs": [
        {
          "output_type": "execute_result",
          "data": {
            "text/plain": [
              "country                0\n",
              "age                    0\n",
              "new_user               0\n",
              "source                 0\n",
              "total_pages_visited    0\n",
              "converted              0\n",
              "dtype: int64"
            ]
          },
          "metadata": {
            "tags": []
          },
          "execution_count": 13
        }
      ]
    },
    {
      "cell_type": "code",
      "metadata": {
        "id": "yQUKvVm78Qw3",
        "colab_type": "code",
        "colab": {
          "base_uri": "https://localhost:8080/",
          "height": 297
        },
        "outputId": "c50b9241-34c2-477a-a792-ac8ea9a24e8c"
      },
      "source": [
        "# understand Numerical feature\n",
        "df[['age', 'total_pages_visited']].describe()"
      ],
      "execution_count": 14,
      "outputs": [
        {
          "output_type": "execute_result",
          "data": {
            "text/html": [
              "<div>\n",
              "<style scoped>\n",
              "    .dataframe tbody tr th:only-of-type {\n",
              "        vertical-align: middle;\n",
              "    }\n",
              "\n",
              "    .dataframe tbody tr th {\n",
              "        vertical-align: top;\n",
              "    }\n",
              "\n",
              "    .dataframe thead th {\n",
              "        text-align: right;\n",
              "    }\n",
              "</style>\n",
              "<table border=\"1\" class=\"dataframe\">\n",
              "  <thead>\n",
              "    <tr style=\"text-align: right;\">\n",
              "      <th></th>\n",
              "      <th>age</th>\n",
              "      <th>total_pages_visited</th>\n",
              "    </tr>\n",
              "  </thead>\n",
              "  <tbody>\n",
              "    <tr>\n",
              "      <th>count</th>\n",
              "      <td>316200.000</td>\n",
              "      <td>316200.000</td>\n",
              "    </tr>\n",
              "    <tr>\n",
              "      <th>mean</th>\n",
              "      <td>30.570</td>\n",
              "      <td>4.873</td>\n",
              "    </tr>\n",
              "    <tr>\n",
              "      <th>std</th>\n",
              "      <td>8.272</td>\n",
              "      <td>3.341</td>\n",
              "    </tr>\n",
              "    <tr>\n",
              "      <th>min</th>\n",
              "      <td>17.000</td>\n",
              "      <td>1.000</td>\n",
              "    </tr>\n",
              "    <tr>\n",
              "      <th>25%</th>\n",
              "      <td>24.000</td>\n",
              "      <td>2.000</td>\n",
              "    </tr>\n",
              "    <tr>\n",
              "      <th>50%</th>\n",
              "      <td>30.000</td>\n",
              "      <td>4.000</td>\n",
              "    </tr>\n",
              "    <tr>\n",
              "      <th>75%</th>\n",
              "      <td>36.000</td>\n",
              "      <td>7.000</td>\n",
              "    </tr>\n",
              "    <tr>\n",
              "      <th>max</th>\n",
              "      <td>123.000</td>\n",
              "      <td>29.000</td>\n",
              "    </tr>\n",
              "  </tbody>\n",
              "</table>\n",
              "</div>"
            ],
            "text/plain": [
              "             age  total_pages_visited\n",
              "count 316200.000           316200.000\n",
              "mean      30.570                4.873\n",
              "std        8.272                3.341\n",
              "min       17.000                1.000\n",
              "25%       24.000                2.000\n",
              "50%       30.000                4.000\n",
              "75%       36.000                7.000\n",
              "max      123.000               29.000"
            ]
          },
          "metadata": {
            "tags": []
          },
          "execution_count": 14
        }
      ]
    },
    {
      "cell_type": "code",
      "metadata": {
        "id": "6EYProzH84I2",
        "colab_type": "code",
        "colab": {
          "base_uri": "https://localhost:8080/",
          "height": 490
        },
        "outputId": "e6222149-2602-41d5-c698-c600a5da9761"
      },
      "source": [
        "# boxplot for numerical feature\n",
        "_,axss = plt.subplots(1,2, figsize=[20,10])\n",
        "sns.boxplot(x='converted', y ='age', data=df, ax=axss[0])\n",
        "sns.boxplot(x='converted', y ='total_pages_visited', data=df, ax=axss[1])"
      ],
      "execution_count": 24,
      "outputs": [
        {
          "output_type": "execute_result",
          "data": {
            "text/plain": [
              "<matplotlib.axes._subplots.AxesSubplot at 0x7fc9265819e8>"
            ]
          },
          "metadata": {
            "tags": []
          },
          "execution_count": 24
        },
        {
          "output_type": "display_data",
          "data": {
            "image/png": "[encoded data removed]",
            "text/plain": [
              "<Figure size 1440x720 with 2 Axes>"
            ]
          },
          "metadata": {
            "tags": [],
            "needs_background": "light"
          }
        }
      ]
    },
    {
      "cell_type": "markdown",
      "metadata": {
        "id": "Y70tWeSqW3oo",
        "colab_type": "text"
      },
      "source": [
        "Insights: \n",
        "1. The youger the person, the more likely he/she will make purchases.\n",
        "2. The more pages a person visited during the session, the more likely he/she will buy.\n",
        "\n"
      ]
    },
    {
      "cell_type": "code",
      "metadata": {
        "id": "wIkHEfVgAgYZ",
        "colab_type": "code",
        "colab": {
          "base_uri": "https://localhost:8080/",
          "height": 307
        },
        "outputId": "662d766c-1518-43ac-94dd-373cc4845d74"
      },
      "source": [
        "# Correlation among numerical features\n",
        "corr = df[['age', 'total_pages_visited']].corr()\n",
        "\n",
        "# show heapmap of correlations\n",
        "sns.heatmap(corr, annot=True, fmt = \".2f\", cmap = \"coolwarm\")"
      ],
      "execution_count": 29,
      "outputs": [
        {
          "output_type": "execute_result",
          "data": {
            "text/plain": [
              "<matplotlib.axes._subplots.AxesSubplot at 0x7fc9266261d0>"
            ]
          },
          "metadata": {
            "tags": []
          },
          "execution_count": 29
        },
        {
          "output_type": "display_data",
          "data": {
            "image/png": "[encoded data removed]",
            "text/plain": [
              "<Figure size 432x288 with 2 Axes>"
            ]
          },
          "metadata": {
            "tags": [],
            "needs_background": "light"
          }
        }
      ]
    },
    {
      "cell_type": "code",
      "metadata": {
        "id": "CoVAlHQM9H-o",
        "colab_type": "code",
        "colab": {
          "base_uri": "https://localhost:8080/",
          "height": 482
        },
        "outputId": "b9f6e457-2001-4677-d09f-0494f9466dd3"
      },
      "source": [
        "# understand categorical feature\n",
        "_,axss = plt.subplots(1,3, figsize=[20,10])\n",
        "sns.countplot(x='converted', hue='country', data=df, ax=axss[0])\n",
        "sns.countplot(x='converted', hue='new_user', data=df, ax=axss[1])\n",
        "sns.countplot(x='converted', hue='source', data=df, ax=axss[2])"
      ],
      "execution_count": 26,
      "outputs": [
        {
          "output_type": "execute_result",
          "data": {
            "text/plain": [
              "<matplotlib.axes._subplots.AxesSubplot at 0x7fc926e819e8>"
            ]
          },
          "metadata": {
            "tags": []
          },
          "execution_count": 26
        },
        {
          "output_type": "display_data",
          "data": {
            "image/png": "[encoded data removed]",
            "text/plain": [
              "<Figure size 1440x720 with 3 Axes>"
            ]
          },
          "metadata": {
            "tags": [],
            "needs_background": "light"
          }
        }
      ]
    },
    {
      "cell_type": "markdown",
      "metadata": {
        "id": "UvD6mtBHXnaG",
        "colab_type": "text"
      },
      "source": [
        "Insights:\n",
        "1. Most customers are from the US. Costomers from China has the lowest conversion.\n",
        "2. New users have low conversion compared to returned users.\n",
        "3. Most customers came to the sight by clicking on search results. It seems the website has good ranking in search engine.  "
      ]
    },
    {
      "cell_type": "markdown",
      "metadata": {
        "id": "wocnB3zyBHdU",
        "colab_type": "text"
      },
      "source": [
        "# Part 2: Feature Preprocessing"
      ]
    },
    {
      "cell_type": "code",
      "metadata": {
        "id": "EvnLvVoTBY90",
        "colab_type": "code",
        "colab": {}
      },
      "source": [
        "# one hot encoding\n",
        "df = pd.get_dummies(df, columns=['country','new_user','source'],drop_first = True)  #drop_first to avoid collinearity\n"
      ],
      "execution_count": 0,
      "outputs": []
    },
    {
      "cell_type": "code",
      "metadata": {
        "id": "EnTElBva_lzm",
        "colab_type": "code",
        "colab": {
          "base_uri": "https://localhost:8080/",
          "height": 224
        },
        "outputId": "7caec1f5-a9ce-4cc2-f245-766060921fb9"
      },
      "source": [
        "df.head()"
      ],
      "execution_count": 33,
      "outputs": [
        {
          "output_type": "execute_result",
          "data": {
            "text/html": [
              "<div>\n",
              "<style scoped>\n",
              "    .dataframe tbody tr th:only-of-type {\n",
              "        vertical-align: middle;\n",
              "    }\n",
              "\n",
              "    .dataframe tbody tr th {\n",
              "        vertical-align: top;\n",
              "    }\n",
              "\n",
              "    .dataframe thead th {\n",
              "        text-align: right;\n",
              "    }\n",
              "</style>\n",
              "<table border=\"1\" class=\"dataframe\">\n",
              "  <thead>\n",
              "    <tr style=\"text-align: right;\">\n",
              "      <th></th>\n",
              "      <th>age</th>\n",
              "      <th>total_pages_visited</th>\n",
              "      <th>converted</th>\n",
              "      <th>country_Germany</th>\n",
              "      <th>country_UK</th>\n",
              "      <th>country_US</th>\n",
              "      <th>new_user_1</th>\n",
              "      <th>source_Direct</th>\n",
              "      <th>source_Seo</th>\n",
              "    </tr>\n",
              "  </thead>\n",
              "  <tbody>\n",
              "    <tr>\n",
              "      <th>0</th>\n",
              "      <td>25</td>\n",
              "      <td>1</td>\n",
              "      <td>0</td>\n",
              "      <td>0</td>\n",
              "      <td>1</td>\n",
              "      <td>0</td>\n",
              "      <td>1</td>\n",
              "      <td>0</td>\n",
              "      <td>0</td>\n",
              "    </tr>\n",
              "    <tr>\n",
              "      <th>1</th>\n",
              "      <td>23</td>\n",
              "      <td>5</td>\n",
              "      <td>0</td>\n",
              "      <td>0</td>\n",
              "      <td>0</td>\n",
              "      <td>1</td>\n",
              "      <td>1</td>\n",
              "      <td>0</td>\n",
              "      <td>1</td>\n",
              "    </tr>\n",
              "    <tr>\n",
              "      <th>2</th>\n",
              "      <td>28</td>\n",
              "      <td>4</td>\n",
              "      <td>0</td>\n",
              "      <td>0</td>\n",
              "      <td>0</td>\n",
              "      <td>1</td>\n",
              "      <td>1</td>\n",
              "      <td>0</td>\n",
              "      <td>1</td>\n",
              "    </tr>\n",
              "    <tr>\n",
              "      <th>3</th>\n",
              "      <td>39</td>\n",
              "      <td>5</td>\n",
              "      <td>0</td>\n",
              "      <td>0</td>\n",
              "      <td>0</td>\n",
              "      <td>0</td>\n",
              "      <td>1</td>\n",
              "      <td>0</td>\n",
              "      <td>1</td>\n",
              "    </tr>\n",
              "    <tr>\n",
              "      <th>4</th>\n",
              "      <td>30</td>\n",
              "      <td>6</td>\n",
              "      <td>0</td>\n",
              "      <td>0</td>\n",
              "      <td>0</td>\n",
              "      <td>1</td>\n",
              "      <td>1</td>\n",
              "      <td>0</td>\n",
              "      <td>1</td>\n",
              "    </tr>\n",
              "  </tbody>\n",
              "</table>\n",
              "</div>"
            ],
            "text/plain": [
              "   age  total_pages_visited  converted  country_Germany  country_UK  \\\n",
              "0   25                    1          0                0           1   \n",
              "1   23                    5          0                0           0   \n",
              "2   28                    4          0                0           0   \n",
              "3   39                    5          0                0           0   \n",
              "4   30                    6          0                0           0   \n",
              "\n",
              "   country_US  new_user_1  source_Direct  source_Seo  \n",
              "0           0           1              0           0  \n",
              "1           1           1              0           1  \n",
              "2           1           1              0           1  \n",
              "3           0           1              0           1  \n",
              "4           1           1              0           1  "
            ]
          },
          "metadata": {
            "tags": []
          },
          "execution_count": 33
        }
      ]
    },
    {
      "cell_type": "code",
      "metadata": {
        "id": "ao3euVX9BX_G",
        "colab_type": "code",
        "colab": {}
      },
      "source": [
        "# Get feature space \n",
        "X = df.drop('converted', axis=1)"
      ],
      "execution_count": 0,
      "outputs": []
    },
    {
      "cell_type": "markdown",
      "metadata": {
        "id": "dJU7l2_yDM7G",
        "colab_type": "text"
      },
      "source": [
        "# Part 3: Model Training and Result Evaluation\n",
        "\n",
        "### 3.1. Split dataset"
      ]
    },
    {
      "cell_type": "code",
      "metadata": {
        "id": "5w92qimPDEiT",
        "colab_type": "code",
        "colab": {
          "base_uri": "https://localhost:8080/",
          "height": 51
        },
        "outputId": "46127b59-7fc4-4ebb-91ac-119e2daa616b"
      },
      "source": [
        "# Reserve 20% for testing\n",
        "X_train, X_test, y_train, y_test = train_test_split(X, y, test_size=0.2)\n",
        "\n",
        "print('training data has ' + str(X_train.shape[0]) + ' observation with ' + str(X_train.shape[1]) + ' features')\n",
        "print('test data has ' + str(X_test.shape[0]) + ' observation with ' + str(X_test.shape[1]) + ' features')"
      ],
      "execution_count": 38,
      "outputs": [
        {
          "output_type": "stream",
          "text": [
            "training data has 252960 observation with 8 features\n",
            "test data has 63240 observation with 8 features\n"
          ],
          "name": "stdout"
        }
      ]
    },
    {
      "cell_type": "code",
      "metadata": {
        "id": "KA15T-T5DjlK",
        "colab_type": "code",
        "colab": {}
      },
      "source": [
        "# Scale the data, using standardization\n",
        "scaler = StandardScaler()\n",
        "X_train = scaler.fit_transform(X_train)\n",
        "X_test = scaler.transform(X_test)"
      ],
      "execution_count": 0,
      "outputs": []
    },
    {
      "cell_type": "markdown",
      "metadata": {
        "id": "oMjdENG8ED6e",
        "colab_type": "text"
      },
      "source": [
        "### 3.2. Model Training and Selection\n",
        "\n",
        "This is a classification problem, as we want to predict whether the person made the purchase or not during the session. I will build three classic classification models-- logistic regression, RNN, and Random Forest-- and evaluate the model performace based on accuracy score and AUC score. \n",
        "\n",
        "Because we are interested in converting those who did not purchase, we focus on prediction accuracy. AUC score is my second metric to consider as it measures how good the model ranks predictions."
      ]
    },
    {
      "cell_type": "code",
      "metadata": {
        "id": "hzpF7APgD8O2",
        "colab_type": "code",
        "colab": {}
      },
      "source": [
        "from sklearn.ensemble import RandomForestClassifier\n",
        "from sklearn.neighbors import KNeighborsClassifier \n",
        "from sklearn.linear_model import LogisticRegression\n",
        "from sklearn import metrics\n",
        "\n",
        "\n",
        "# Logistic Regression\n",
        "classifier_logistic = LogisticRegression()\n",
        "\n",
        "# K Nearest Neighbors\n",
        "classifier_KNN = KNeighborsClassifier()\n",
        "\n",
        "# Random Forest\n",
        "classifier_RF = RandomForestClassifier()"
      ],
      "execution_count": 0,
      "outputs": []
    },
    {
      "cell_type": "markdown",
      "metadata": {
        "id": "6hL-T-ldOgbw",
        "colab_type": "text"
      },
      "source": [
        "3.2.1 Logistic Regression"
      ]
    },
    {
      "cell_type": "code",
      "metadata": {
        "id": "tSB-KEvHENdv",
        "colab_type": "code",
        "colab": {
          "base_uri": "https://localhost:8080/",
          "height": 85
        },
        "outputId": "079a1ee5-e1c8-4cf0-c100-8ae5095db1cc"
      },
      "source": [
        "# fit the model with data\n",
        "classifier_logistic.fit(X_train, y_train)\n",
        "pred = classifier_logistic.predict(X_test)\n",
        "\n",
        "# model evaluation\n",
        "print(\"Accuracy:\",metrics.accuracy_score(y_test, pred))\n",
        "print(\"Precision:\",metrics.precision_score(y_test, pred))\n",
        "print(\"Recall:\",metrics.recall_score(y_test, pred))\n",
        "\n",
        "y_pred_proba = classifier_logistic.predict_proba(X_test)[::,1]\n",
        "print(\"ROC score:\",metrics.roc_auc_score(y_test, y_pred_proba))\n"
      ],
      "execution_count": 54,
      "outputs": [
        {
          "output_type": "stream",
          "text": [
            "Accuracy: 0.9853731815306768\n",
            "Precision: 0.8516247700797057\n",
            "Recall: 0.6703667953667953\n",
            "ROC score: 0.9845979720577142\n"
          ],
          "name": "stdout"
        }
      ]
    },
    {
      "cell_type": "code",
      "metadata": {
        "id": "QXa5ADc5RC8y",
        "colab_type": "code",
        "colab": {
          "base_uri": "https://localhost:8080/",
          "height": 170
        },
        "outputId": "96703fc0-1b24-407a-d5f6-3ce7c42bb545"
      },
      "source": [
        "classifier_logistic.coef_[0]\n",
        "print (\"Logistic Regression Coefficients\")\n",
        "for k,v in sorted(zip(map(lambda x: round(x, 4), classifier_logistic.coef_[0]), \\\n",
        "                      X.columns), key=lambda k_v:(-abs(k_v[0]),k_v[1])):\n",
        "    print (v + \": \" + str(k))"
      ],
      "execution_count": 58,
      "outputs": [
        {
          "output_type": "stream",
          "text": [
            "Logistic Regression Coefficients\n",
            "total_pages_visited: 2.5444\n",
            "country_US: 1.6213\n",
            "country_UK: 1.314\n",
            "new_user_1: -0.8021\n",
            "country_Germany: 0.7642\n",
            "age: -0.6239\n",
            "source_Direct: -0.0814\n",
            "source_Seo: -0.0279\n"
          ],
          "name": "stdout"
        }
      ]
    },
    {
      "cell_type": "markdown",
      "metadata": {
        "id": "Dz4U9LTmPbOq",
        "colab_type": "text"
      },
      "source": [
        "3.2.2 KNN"
      ]
    },
    {
      "cell_type": "code",
      "metadata": {
        "id": "6XFQPXehOP1Q",
        "colab_type": "code",
        "colab": {
          "base_uri": "https://localhost:8080/",
          "height": 85
        },
        "outputId": "c3a1a910-4185-4499-c4aa-d71a6fc2993c"
      },
      "source": [
        "# fit the model with data\n",
        "classifier_KNN.fit(X_train, y_train)\n",
        "pred = classifier_KNN.predict(X_test)\n",
        "\n",
        "# model evaluation\n",
        "print(\"Accuracy:\",metrics.accuracy_score(y_test, pred))\n",
        "print(\"Precision:\",metrics.precision_score(y_test, pred))\n",
        "print(\"Recall:\",metrics.recall_score(y_test, pred))\n",
        "\n",
        "y_pred_proba = classifier_KNN.predict_proba(X_test)[::,1]\n",
        "print(\"ROC score:\",metrics.roc_auc_score(y_test, y_pred_proba))"
      ],
      "execution_count": 55,
      "outputs": [
        {
          "output_type": "stream",
          "text": [
            "Accuracy: 0.9841397849462366\n",
            "Precision: 0.8145968216597999\n",
            "Recall: 0.667953667953668\n",
            "ROC score: 0.9135575374662805\n"
          ],
          "name": "stdout"
        }
      ]
    },
    {
      "cell_type": "markdown",
      "metadata": {
        "id": "4aLj0nhEPmv0",
        "colab_type": "text"
      },
      "source": [
        "3.2.3 Random Forest"
      ]
    },
    {
      "cell_type": "code",
      "metadata": {
        "id": "25dZ8tNPPqMP",
        "colab_type": "code",
        "colab": {
          "base_uri": "https://localhost:8080/",
          "height": 85
        },
        "outputId": "bb940e88-6c4b-40a8-d5e9-0d37ee7c57cb"
      },
      "source": [
        "# fit the model with data\n",
        "classifier_RF.fit(X_train, y_train)\n",
        "pred = classifier_RF.predict(X_test)\n",
        "\n",
        "# model evaluation\n",
        "print(\"Accuracy:\",metrics.accuracy_score(y_test, pred))\n",
        "print(\"Precision:\",metrics.precision_score(y_test, pred))\n",
        "print(\"Recall:\",metrics.recall_score(y_test, pred))\n",
        "\n",
        "y_pred_proba = classifier_RF.predict_proba(X_test)[::,1]\n",
        "print(\"ROC score:\",metrics.roc_auc_score(y_test, y_pred_proba))\n"
      ],
      "execution_count": 56,
      "outputs": [
        {
          "output_type": "stream",
          "text": [
            "Accuracy: 0.9843769765970904\n",
            "Precision: 0.8191990577149588\n",
            "Recall: 0.6713320463320464\n",
            "ROC score: 0.9443120194575203\n"
          ],
          "name": "stdout"
        }
      ]
    },
    {
      "cell_type": "code",
      "metadata": {
        "id": "HvPhcKmEMlB3",
        "colab_type": "code",
        "colab": {
          "base_uri": "https://localhost:8080/",
          "height": 170
        },
        "outputId": "14bad85d-a910-4bb1-a303-c9da19b5c9d7"
      },
      "source": [
        "importances = classifier_RF.feature_importances_\n",
        "\n",
        "# Print the feature ranking\n",
        "print(\"Feature importance ranking by Random Forest Model:\")\n",
        "for k,v in sorted(zip(map(lambda x: round(x, 4), importances), X.columns), reverse=True):\n",
        "    print (v + \": \" + str(k))"
      ],
      "execution_count": 57,
      "outputs": [
        {
          "output_type": "stream",
          "text": [
            "Feature importance ranking by Random Forest Model:\n",
            "total_pages_visited: 0.8144\n",
            "age: 0.1038\n",
            "new_user_1: 0.0379\n",
            "country_US: 0.0132\n",
            "country_UK: 0.0124\n",
            "country_Germany: 0.0091\n",
            "source_Seo: 0.0049\n",
            "source_Direct: 0.0041\n"
          ],
          "name": "stdout"
        }
      ]
    },
    {
      "cell_type": "markdown",
      "metadata": {
        "id": "Tfpm5wJFcunT",
        "colab_type": "text"
      },
      "source": [
        "Insights:\n",
        "\n",
        "Logistic regression gives me the highest accuracy score (0.985) as well as highest AUC score (0.985). It is also easier to train and interpret. Therefore, I will choose logistic regression as my final model.\n",
        "\n",
        "Logistic regression model shows that the top important factor affecting conversion are number of pages visited during the session (+) ,whether he/she is browsing from the US (+), or from UK (+), and whether he/she is a new user (-)\n",
        "\n",
        "Our model sugguests that we can target new users to improve conversion rate. Most importantlt,we need to improve website to increase page visits, such as more similar product recommendation links to increase clicks, etc.\n"
      ]
    },
    {
      "cell_type": "markdown",
      "metadata": {
        "id": "DIqZP3icRoR0",
        "colab_type": "text"
      },
      "source": [
        "### 3.3. Grid Search to Find Optimal Hyperparameters \n",
        "\n"
      ]
    },
    {
      "cell_type": "code",
      "metadata": {
        "id": "5FlnHe52R7T7",
        "colab_type": "code",
        "colab": {}
      },
      "source": [
        "from sklearn.model_selection import GridSearchCV\n",
        "\n",
        "# helper function for printing out grid search results \n",
        "def print_grid_search_metrics(gs):\n",
        "    print (\"Best score: \" + str(gs.best_score_))\n",
        "    print (\"Best parameters set:\")\n",
        "    best_parameters = gs.best_params_\n",
        "    for param_name in sorted(parameters.keys()):\n",
        "        print(param_name + ':' + str(best_parameters[param_name]))"
      ],
      "execution_count": 0,
      "outputs": []
    },
    {
      "cell_type": "code",
      "metadata": {
        "id": "0ZHckf5XQgfv",
        "colab_type": "code",
        "colab": {
          "base_uri": "https://localhost:8080/",
          "height": 85
        },
        "outputId": "cf92b43e-3a1f-458a-c186-abcc52c8ee69"
      },
      "source": [
        "# Possible hyperparamter options for Logistic Regression Regularization\n",
        "# Penalty is choosed from L1 or L2\n",
        "# C is the lambda value(weight) for L1 and L2\n",
        "\n",
        "# ('l1', 1) ('l1', 5) ('l1', 10) ('l2', 1) ('l2', 5) ('l2', 10)\n",
        "parameters = {\n",
        "    'penalty':('l1', 'l2'), \n",
        "    'C':(1, 5, 10)\n",
        "}\n",
        "Grid_LR = GridSearchCV(LogisticRegression(solver='liblinear'),parameters, cv=5)\n",
        "Grid_LR.fit(X_train, y_train)\n",
        "\n",
        "# the best hyperparameter combination\n",
        "print_grid_search_metrics(Grid_LR)"
      ],
      "execution_count": 61,
      "outputs": [
        {
          "output_type": "stream",
          "text": [
            "Best score: 0.9863259013282732\n",
            "Best parameters set:\n",
            "C:1\n",
            "penalty:l1\n"
          ],
          "name": "stdout"
        }
      ]
    },
    {
      "cell_type": "code",
      "metadata": {
        "id": "SoC_DE_cfU65",
        "colab_type": "code",
        "colab": {}
      },
      "source": [
        ""
      ],
      "execution_count": 0,
      "outputs": []
    },
    {
      "cell_type": "code",
      "metadata": {
        "id": "fQBX5z1wR2A7",
        "colab_type": "code",
        "colab": {}
      },
      "source": [
        ""
      ],
      "execution_count": 0,
      "outputs": []
    }
  ]
}